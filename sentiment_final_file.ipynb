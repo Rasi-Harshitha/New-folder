{
 "cells": [
  {
   "cell_type": "code",
   "execution_count": 2,
   "id": "d75a792b-8e5a-4609-80ab-3a6c1aafaf0c",
   "metadata": {},
   "outputs": [],
   "source": [
    "import numpy as np\n",
    "import pandas as pd\n",
    "import re\n",
    "from nltk.corpus import stopwords\n",
    "from nltk.stem.porter import PorterStemmer\n",
    "from sklearn.feature_extraction.text import TfidfVectorizer\n",
    "from sklearn.model_selection import train_test_split\n",
    "from sklearn.linear_model import LogisticRegression\n",
    "from sklearn.metrics import accuracy_score"
   ]
  },
  {
   "cell_type": "code",
   "execution_count": 3,
   "id": "e95720c1-cb24-490b-92b2-66c5bccfbb44",
   "metadata": {},
   "outputs": [
    {
     "name": "stderr",
     "output_type": "stream",
     "text": [
      "[nltk_data] Downloading package stopwords to\n",
      "[nltk_data]     C:\\Users\\rasih\\AppData\\Roaming\\nltk_data...\n",
      "[nltk_data]   Unzipping corpora\\stopwords.zip.\n"
     ]
    },
    {
     "data": {
      "text/plain": [
       "True"
      ]
     },
     "execution_count": 3,
     "metadata": {},
     "output_type": "execute_result"
    }
   ],
   "source": [
    "import nltk\n",
    "nltk.download('stopwords')"
   ]
  },
  {
   "cell_type": "code",
   "execution_count": 4,
   "id": "f0bb6aa9-735f-41d6-aea3-86bef4558847",
   "metadata": {},
   "outputs": [],
   "source": [
    "port_stem=PorterStemmer()"
   ]
  },
  {
   "cell_type": "code",
   "execution_count": 5,
   "id": "8c439a19-51cc-42d9-883b-9587db9db607",
   "metadata": {},
   "outputs": [],
   "source": [
    "def stemming(content):\n",
    "  stemmed_content=re.sub('[^a-zA-Z]',' ',content)#remove elements other than a-zA-Z\n",
    "  stemmed_content=stemmed_content.lower()\n",
    "  stemmed_content=stemmed_content.split()\n",
    "  #perform operation only on words that donot belong to stopwords\n",
    "  stemmed_content=[port_stem.stem(word) for word in stemmed_content if not word in stopwords.words('english')]\n",
    "  stemmed_content=' '.join(stemmed_content)\n",
    "  return stemmed_content"
   ]
  },
  {
   "cell_type": "code",
   "execution_count": 28,
   "id": "676d90ba-29b6-4ffb-99e3-00143128bcd2",
   "metadata": {},
   "outputs": [
    {
     "name": "stdout",
     "output_type": "stream",
     "text": [
      "love movi amaz\n"
     ]
    }
   ],
   "source": [
    "statement = \"I love this movie It was amazing###!\"\n",
    "processed_statement = stemming(statement)\n",
    "print(processed_statement)"
   ]
  },
  {
   "cell_type": "code",
   "execution_count": null,
   "id": "d6e77e70-f4a5-4020-bc0d-a11a2e885633",
   "metadata": {},
   "outputs": [],
   "source": []
  },
  {
   "cell_type": "code",
   "execution_count": null,
   "id": "e7035330-e112-4854-bb37-c9e2bd4af9f9",
   "metadata": {},
   "outputs": [],
   "source": [
    "import pickle"
   ]
  },
  {
   "cell_type": "code",
   "execution_count": 29,
   "id": "295ccfaa-990d-4195-8c6a-f5380a216626",
   "metadata": {},
   "outputs": [],
   "source": [
    "loaded_model=pickle.load(open(\"C:/Users/rasih/Downloads/trained_model.sav\",'rb'))"
   ]
  },
  {
   "cell_type": "code",
   "execution_count": 30,
   "id": "4309d9c7-8a9b-41af-aa8c-99740f8a9a17",
   "metadata": {},
   "outputs": [
    {
     "name": "stdout",
     "output_type": "stream",
     "text": [
      "  (0, 13852)\t0.6501758144024453\n",
      "  (0, 242268)\t0.4424605333723816\n",
      "  (0, 275684)\t0.6176569329117456\n"
     ]
    }
   ],
   "source": [
    "import joblib\n",
    "\n",
    "# Load the saved vectorizer\n",
    "vectorizer = joblib.load(\"C:/Users/rasih/OneDrive/Desktop/vectorizer (1).sav\")\n",
    "\n",
    "# Assuming x_new is new data to transform\n",
    "x_new_transformed = vectorizer.transform([processed_statement])\n",
    "print(x_new_transformed)"
   ]
  },
  {
   "cell_type": "code",
   "execution_count": null,
   "id": "d79f4440-2f44-413c-a7c9-1094de5d3d9a",
   "metadata": {},
   "outputs": [
    {
     "name": "stdout",
     "output_type": "stream",
     "text": [
      "[1]\n",
      "Positive Tweet\n"
     ]
    }
   ],
   "source": [
    "prediction=loaded_model.predict(x_new_transformed)\n",
    "print(prediction)\n",
    "if (prediction[0]==0):\n",
    "  print(\"negative Tweet\")\n",
    "else:\n",
    "  print(\"Positive Tweet\")"
   ]
  },
  {
   "cell_type": "code",
   "execution_count": null,
   "id": "beb92e12-1309-4883-b2d7-3432d98d30b0",
   "metadata": {},
   "outputs": [],
   "source": []
  }
 ],
 "metadata": {
  "kernelspec": {
   "display_name": "Python 3 (ipykernel)",
   "language": "python",
   "name": "python3"
  },
  "language_info": {
   "codemirror_mode": {
    "name": "ipython",
    "version": 3
   },
   "file_extension": ".py",
   "mimetype": "text/x-python",
   "name": "python",
   "nbconvert_exporter": "python",
   "pygments_lexer": "ipython3",
   "version": "3.11.7"
  }
 },
 "nbformat": 4,
 "nbformat_minor": 5
}
